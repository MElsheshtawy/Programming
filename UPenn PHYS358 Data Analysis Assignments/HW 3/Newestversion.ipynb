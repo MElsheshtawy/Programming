{
 "cells": [
  {
   "cell_type": "markdown",
   "id": "fac095ff",
   "metadata": {
    "deletable": false,
    "editable": false,
    "nbgrader": {
     "cell_type": "markdown",
     "checksum": "9ebabbf41297836a1c12cddc08f82039",
     "grade": false,
     "grade_id": "cell-2875f36c2b0d4428",
     "locked": true,
     "schema_version": 3,
     "solution": false
    }
   },
   "source": [
    "**Question 1**\n",
    "\n",
    "(This is Problem 4.4 from Gregory.) A bottle contains three green balls and three red balls.\n",
    "The bottle is first shaken to mix up the balls.\n",
    "\n",
    "(a) (2 pts) Calculate analytically the probability that blindfolded, you will pick a red ball\n",
    "on the third pick, if you learn that at least one red ball was picked on the first two picks.\n",
    "\n",
    "(b) CODING: (3 pts) Write a Python function that simulates this an instance of drawing\n",
    "three balls from the bottle.\n",
    "\n",
    "(c) CODING: (3 pts) Using the function from b), empirically calculate the probability\n",
    "from part a)."
   ]
  },
  {
   "cell_type": "markdown",
   "id": "19b0a0b6",
   "metadata": {
    "deletable": false,
    "nbgrader": {
     "cell_type": "markdown",
     "checksum": "f1a4a43d3750430b80fceeb29779bb67",
     "grade": true,
     "grade_id": "cell-a8606aa986a5e617",
     "locked": false,
     "points": 2,
     "schema_version": 3,
     "solution": true
    }
   },
   "source": [
    "Quesiton 1a:\n",
    "\n",
    "YOUR ANSWER HERE:\n",
    "Let A be the event that the third ball picked is red.\n",
    "Let B be the event that at least one red ball was picked in the first two picks.\n",
    "We need to calculate P(A|B)= P(A and B)/ P(B)\n",
    "P(B) = 1- P(!B)\n",
    "P(!B) is getting the first two as green = (1/2)*(2/5) = 1/5\n",
    "P(B) = 4/5\n",
    "P(A and B) = probability of first 3 as red or first and third red or second and third red= (1/2)*(2/5)*(1/4) + (1/2)*(3/5)*(1/2) +(1/2)*(3/5)*(1/2) =(7/20)\n",
    "\n",
    "So P(A|B) = (7/20)/(4/5) = 7/16 = 0.4375\n",
    "        "
   ]
  },
  {
   "cell_type": "code",
   "execution_count": 39,
   "id": "d73ba8ae",
   "metadata": {
    "deletable": false,
    "nbgrader": {
     "cell_type": "code",
     "checksum": "b61e5a1fbd2f24fb907afa063e4afb68",
     "grade": false,
     "grade_id": "cell-a29bdea1673f34c6",
     "locked": false,
     "schema_version": 3,
     "solution": true
    }
   },
   "outputs": [],
   "source": [
    "# Question 1b\n",
    "\n",
    "import numpy as np\n",
    "import random\n",
    "def simulate_draw3():\n",
    "    \"\"\"Simulate drawing 3 balls from a bottle containing 3 green balls and 3 red balls at random\n",
    "    \n",
    "    Returns: an array of three strings, each of which is either 'G' or 'R',\n",
    "             representing green and red respectively.\n",
    "    \"\"\"\n",
    "    Red =0\n",
    "    Green = 0\n",
    "    output = []\n",
    "    for i in range(3):\n",
    "        num = random.random()\n",
    "        if num < (3-Red)/(6-(Red+Green)):\n",
    "            output.append('R')\n",
    "            Red+=1\n",
    "        else:\n",
    "            output.append('G')\n",
    "            Green+=1\n",
    "    return output\n"
   ]
  },
  {
   "cell_type": "code",
   "execution_count": 41,
   "id": "21ea497d",
   "metadata": {
    "deletable": false,
    "editable": false,
    "nbgrader": {
     "cell_type": "code",
     "checksum": "6e2ea7bbead3e7e188f358423cdc7252",
     "grade": true,
     "grade_id": "cell-e2d5c2ede65447c8",
     "locked": true,
     "points": 3,
     "schema_version": 3,
     "solution": false
    }
   },
   "outputs": [
    {
     "name": "stdout",
     "output_type": "stream",
     "text": [
      "The three draws are: ['G', 'R', 'R']\n"
     ]
    }
   ],
   "source": [
    "draw = simulate_draw3()\n",
    "\n",
    "# If you run this multiple times, this should (usually) change each time.\n",
    "print(f'The three draws are: {draw}')\n",
    "\n",
    "# Some sanity checks:\n",
    "\n",
    "# Length should be 3\n",
    "assert len(draw) == 3\n",
    "\n",
    "# Each one should be either 'G' or 'R'\n",
    "d1, d2, d3 = draw\n",
    "assert d1 in ['G', 'R']\n",
    "assert d2 in ['G', 'R']\n",
    "assert d3 in ['G', 'R']\n"
   ]
  },
  {
   "cell_type": "code",
   "execution_count": 47,
   "id": "1176f4bc",
   "metadata": {
    "deletable": false,
    "nbgrader": {
     "cell_type": "code",
     "checksum": "e46ab4661e77feb663520fb0bf430048",
     "grade": false,
     "grade_id": "cell-fbb32c8fb25debed",
     "locked": false,
     "schema_version": 3,
     "solution": true
    }
   },
   "outputs": [],
   "source": [
    "# Question 1c\n",
    "\n",
    "def estimate_prob():\n",
    "    \"\"\"Estimate the probability of drawing a red ball 3rd given that at least one of the first two\n",
    "    draws were red, by runing simulate_draw3 many times.\n",
    "    \n",
    "    Returns \n",
    "    \"\"\"\n",
    "    validstates = 0\n",
    "    Redonthird=0\n",
    "    for i in range(1000000):\n",
    "        state = simulate_draw3()\n",
    "        if (state[0] == 'R' or state[1] == 'R'):\n",
    "            validstates+=1\n",
    "            if state[2]== 'R':\n",
    "                Redonthird +=1\n",
    "    return Redonthird/validstates"
   ]
  },
  {
   "cell_type": "code",
   "execution_count": 49,
   "id": "df67783f",
   "metadata": {
    "deletable": false,
    "editable": false,
    "nbgrader": {
     "cell_type": "code",
     "checksum": "d0a2f7339bc1a14be4dcea8298e0610d",
     "grade": true,
     "grade_id": "cell-8832a8df51899375",
     "locked": true,
     "points": 3,
     "schema_version": 3,
     "solution": false
    }
   },
   "outputs": [
    {
     "name": "stdout",
     "output_type": "stream",
     "text": [
      "The estimated probability is 0.4368871966920496\n"
     ]
    }
   ],
   "source": [
    "prob = estimate_prob()\n",
    "print(f'The estimated probability is {prob}')\n",
    "\n",
    "# You should compare this to what you got in Question 1a.  It should be equal to 2 decimal places.\n"
   ]
  },
  {
   "cell_type": "markdown",
   "id": "a0c56d9e",
   "metadata": {
    "deletable": false,
    "editable": false,
    "nbgrader": {
     "cell_type": "markdown",
     "checksum": "c9e0c6ff1d3b24ced2b0874463012fa3",
     "grade": false,
     "grade_id": "cell-e5b6228eaad76321",
     "locked": true,
     "schema_version": 3,
     "solution": false
    }
   },
   "source": [
    "**Question 2**\n",
    "\n",
    "(6 pts; this is Problem 4.7 from Gregory.) In a particular water sample, ten bacteria are\n",
    "found, of which three are of type $A$. Calculate analytically the probability of obtaining six\n",
    "type $A$ bacteria, in a second independent water sample containing 12 bacteria in total."
   ]
  },
  {
   "cell_type": "markdown",
   "id": "b653a267",
   "metadata": {
    "deletable": false,
    "nbgrader": {
     "cell_type": "markdown",
     "checksum": "f182ebdca79598bcb09dac8b5efd500d",
     "grade": true,
     "grade_id": "cell-446be4841a80674a",
     "locked": false,
     "points": 2,
     "schema_version": 3,
     "solution": true
    }
   },
   "source": [
    "Hint: You may find the following definite integral to be helpful:\n",
    "\n",
    "$$\n",
    "\\int_0^1  x^k (1-x)^{n-k} dx = \\frac{1}{(n+1)\\binom{n}{k}}\n",
    "$$\n",
    "\n",
    "YOUR ANSWER HERE\n",
    "Let A be the probability of getting 6 bacteria out of 12\n",
    "and let D be our data and P be our parameter\n",
    "\n",
    "Our equation is \n",
    "$$\n",
    "P(A|D,P,I) = \\frac{P(A|P,I)\\times P(D|A,P,I)}{P(D|P,I)} = \\frac{likelyhood\\times Prior}{normalization constant}\n",
    "$$\n",
    "First we will assign our prior as \n",
    "$$\n",
    "prior = P(D|A,P,I) = \\binom{10}{3}\\times p^3 \\times (1-p)^7\n",
    "$$\n",
    "and our liklehood function as\n",
    "$$\n",
    "likelyhood = P(A|P,I)= \\binom{12}{6}\\times p^6 \\times (1-p)^6\n",
    "$$\n",
    "and our normalization factor is \n",
    "$$\n",
    "normalization factor = P(D|I) = \\binom{10}{3}\\times p^3 \\times (1-p)^7\n",
    "$$\n",
    "Now lets plug all of this in the equation\n",
    "$$\n",
    "P(A|D,P,I) = \\frac{\n",
    "\\int_0^1 P(A|P,I)\\times P(D|A,P,I)}{\\int_0^1P(D|P,I)} = \\binom{12}{6}\\times\\binom{10}{3} \\times\\frac{\\int_0^1 p^9 (1-p)^13 dp}{\\binom{10}{3}\\int_0^1 p^3 (1-p)^7}\n",
    "$$\n",
    "Which will evaluate to\n",
    "$$\n",
    "P(A|D,P,I) = \\frac{\\binom{12}{6}\\times\\binom{10}{3}\\times 11}{23\\times\\binom{22}{9}} = \\frac{792}{7429} = 0.1066 = 10.7\\%\n",
    "$$"
   ]
  },
  {
   "cell_type": "markdown",
   "id": "526ec138",
   "metadata": {
    "deletable": false,
    "editable": false,
    "nbgrader": {
     "cell_type": "markdown",
     "checksum": "1d383924ecffd091a8a36e7c01a00b29",
     "grade": false,
     "grade_id": "cell-5e3d8a21e2cb9b12",
     "locked": true,
     "schema_version": 3,
     "solution": false
    }
   },
   "source": [
    "**Question 3**\n",
    "    \n",
    "This problem demonstrates empirically several properties of counting statistics, which obeys the \n",
    "Poisson distribution. We will approximate a Poisson process by generating random values between\n",
    "0 and 10, but only looking at the ones between 0 and 1.  Technically, this is a multinomial distribution,\n",
    "but for large $N$ and at least moderately large number of bins, it is a good approximation to\n",
    "a Poisson process.\n",
    "\n",
    "(a) (3 pts) Generate $N = 10^6$ uniform random deviates between 0 and 10.\n",
    "    Count the number of deviates that fall in each of 100 equal-sized bins between 0 and 1 \n",
    "    (0.00-0.01, 0.01-0.02, etc).  Calculate the mean $\\mu$ and variance $\\sigma^2$ of the counts per bin.\n",
    "    Make sure that the mean is almost exactly what you expect: $\\bar{n} \\approx N/100 = 1000$.\n",
    "\n",
    "(b) (3 pts) Repeat part (a) for 10 and 1000 equally-sized bins.  This empirically shows that $\\mu = \\sigma^2 = \\bar{n}$, \n",
    "    which is an important property of the Poisson distribution.\n",
    "    \n",
    "(c) **EXTRA CREDIT** (2 pts): Now generate $M = 100$ realizations of part (a).\n",
    "    Make sure to not use the same random seed each time.  You should now have $M = 100$ values of both the mean and \n",
    "    variance.  Let's call these $\\mu_i$ and $\\sigma_i^2$, respectively, where $i = 1, 2, ..., M$.\n",
    "    Now calculate the mean and variance of $\\mu_i$ and $\\sigma_i^2$.  This demonstrates that the general property \n",
    "    that the variance (2nd moment) is much more difficult to measure accurately than the mean (1st moment)."
   ]
  },
  {
   "cell_type": "code",
   "execution_count": 86,
   "id": "d4fc2eaf",
   "metadata": {
    "deletable": false,
    "nbgrader": {
     "cell_type": "code",
     "checksum": "137d287610ed69123fddd7b326927fa6",
     "grade": false,
     "grade_id": "cell-30668e3a915c451c",
     "locked": false,
     "schema_version": 3,
     "solution": true
    }
   },
   "outputs": [
    {
     "name": "stdout",
     "output_type": "stream",
     "text": [
      "Part (a):\n",
      "Mean counts per bin (μ): 1001.99\n",
      "Variance of counts per bin (σ²): 927.4898999999998\n",
      "Expected mean: 1000.0\n",
      "\n",
      "Part (b):\n",
      "Number of bins: 10\n",
      "Mean counts per bin (μ): 9978.7\n",
      "Variance of counts per bin (σ²): 12861.61\n",
      "Expected mean: 10000.0\n",
      "\n",
      "Number of bins: 1000\n",
      "Mean counts per bin (μ): 99.46382556987116\n",
      "Variance of counts per bin (σ²): 102.58962302606571\n",
      "Expected mean: 100.0\n",
      "\n"
     ]
    }
   ],
   "source": [
    "# Question 3a,b\n",
    "\n",
    "def make_counts(ntot, nbins):\n",
    "    \"\"\"Make a random array of ntot uniform random deviates between 0 and 10, \n",
    "    and bin the values between 0 and 1 into nbins bins.\n",
    "    \n",
    "    Returns the number of values in each bin as an array of lenth nbins\n",
    "    \"\"\"\n",
    "    # Hints:\n",
    "    # 1. Use either np.random.random or np.random.uniform to make the full array.\n",
    "    # 2. There are a number of ways to bin these.  Probably np.histogram is easiest.\n",
    "    #    Read the docs carefully, since you'll need to set some non-default parameters.\n",
    "    \n",
    "    random_deviates = np.random.uniform(0, 10, ntot)\n",
    "    bin_edges = np.arange(0, 1.01, 1/nbins)\n",
    "    counts, _ = np.histogram(random_deviates, bins=bin_edges)\n",
    "    \n",
    "    return counts\n",
    "    \n",
    "def calculate_mean_var(x):\n",
    "    \"\"\"Return the mean and variance of the values in the given array (as a tuple).\n",
    "    \"\"\"\n",
    "    # You've done this twice already, so this should be a trivial one-liner at this point.\n",
    "    # Feel free to use numpy functions for this.\n",
    "    \n",
    "    mean_counts = np.mean(x)\n",
    "    variance_counts = np.var(x)\n",
    "    return (mean_counts,variance_counts)\n",
    "\n",
    "#part(a)\n",
    "N = 10**6\n",
    "num_bins_a = 100\n",
    "\n",
    "counts_per_bin_a = make_counts(N, num_bins_a)\n",
    "mean_a, variance_a = calculate_mean_var(counts_per_bin_a)\n",
    "\n",
    "expected_mean_a = N / num_bins_a\n",
    "# Output\n",
    "print(\"Part (a):\")\n",
    "print(f\"Mean counts per bin (μ): {mean_a}\")\n",
    "print(f\"Variance of counts per bin (σ²): {variance_a}\")\n",
    "#expected always greater by multiplication of 10 so I will divide by 10 :)\n",
    "print(f\"Expected mean: {expected_mean_a/10}\\n\")\n",
    "\n",
    "#part(b)\n",
    "N = 10**6\n",
    "bin_sizes_b = [10, 1000]\n",
    "\n",
    "results_b = {}\n",
    "for num_bins in bin_sizes_b:\n",
    "    counts_per_bin = make_counts(N, num_bins)\n",
    "    mean, variance = calculate_mean_var(counts_per_bin)\n",
    "    expected_mean = N / num_bins  # Expected mean for Poisson distribution\n",
    "    results_b[num_bins] = (mean, variance, expected_mean)\n",
    "# Output\n",
    "print(\"Part (b):\")\n",
    "for num_bins, (mean, variance, expected_mean) in results_b.items():\n",
    "    print(f\"Number of bins: {num_bins}\")\n",
    "    print(f\"Mean counts per bin (μ): {mean}\")\n",
    "    print(f\"Variance of counts per bin (σ²): {variance}\")\n",
    "    #expected always greater by multiplication of 10 so I will divide by 10 :)\n",
    "    print(f\"Expected mean: {expected_mean/10}\\n\")"
   ]
  },
  {
   "cell_type": "code",
   "execution_count": 88,
   "id": "82ee78ac",
   "metadata": {
    "deletable": false,
    "editable": false,
    "nbgrader": {
     "cell_type": "code",
     "checksum": "8228b0717e080b9b67d93d7fe750b21d",
     "grade": true,
     "grade_id": "cell-78364ea94b9eec92",
     "locked": true,
     "points": 6,
     "schema_version": 3,
     "solution": false
    }
   },
   "outputs": [
    {
     "name": "stdout",
     "output_type": "stream",
     "text": [
      "Mean of 100 values = 997.89\n",
      "Expected mean = 1000.00\n",
      "Variance of 100 values = 1254.66\n",
      "Expected variance = 1000.00\n",
      "\n",
      "Mean of 10 values = 9950.90\n",
      "Expected mean = 10000.00\n",
      "Variance of 10 values = 10318.69\n",
      "Expected variance = 10000.00\n",
      "\n",
      "Mean of 1000 values = 100.23\n",
      "Expected mean = 100.00\n",
      "Variance of 1000 values = 105.95\n",
      "Expected variance = 100.00\n"
     ]
    }
   ],
   "source": [
    "N = 1_000_000 # The underscores are ignored. For large integers, they are allowed to make it easier to read.\n",
    "\n",
    "# 4a:\n",
    "nbins = 100\n",
    "\n",
    "x = make_counts(N, nbins)\n",
    "mean, var = calculate_mean_var(x)\n",
    "\n",
    "print(f\"Mean of {nbins} values = {mean:.2f}\")\n",
    "print(f\"Expected mean = {N/10/nbins:.2f}\")\n",
    "\n",
    "print(f\"Variance of {nbins} values = {var:.2f}\")\n",
    "print(f\"Expected variance = {N/10/nbins:.2f}\")\n",
    "\n",
    "# 4b:\n",
    "nbins = 10\n",
    "x = make_counts(N, nbins)\n",
    "mean, var = calculate_mean_var(x)\n",
    "\n",
    "print()\n",
    "print(f\"Mean of {nbins} values = {mean:.2f}\")\n",
    "print(f\"Expected mean = {N/10/nbins:.2f}\")\n",
    "\n",
    "print(f\"Variance of {nbins} values = {var:.2f}\")\n",
    "print(f\"Expected variance = {N/10/nbins:.2f}\")\n",
    "\n",
    "nbins = 1000\n",
    "x = make_counts(N, nbins)\n",
    "mean, var = calculate_mean_var(x)\n",
    "\n",
    "print()\n",
    "print(f\"Mean of {nbins} values = {mean:.2f}\")\n",
    "print(f\"Expected mean = {N/10/nbins:.2f}\")\n",
    "\n",
    "print(f\"Variance of {nbins} values = {var:.2f}\")\n",
    "print(f\"Expected variance = {N/10/nbins:.2f}\")\n",
    "\n",
    "\n"
   ]
  },
  {
   "cell_type": "code",
   "execution_count": 91,
   "id": "e7195f3a",
   "metadata": {
    "deletable": false,
    "nbgrader": {
     "cell_type": "code",
     "checksum": "5bdcfd394296a11ecffcfb16338e3019",
     "grade": false,
     "grade_id": "cell-6b7208ff159c9567",
     "locked": false,
     "schema_version": 3,
     "solution": true
    }
   },
   "outputs": [
    {
     "name": "stdout",
     "output_type": "stream",
     "text": [
      "Results from 100 realizations:\n",
      "Mean of μ: 1000.3209000000003\n",
      "Variance of μ: 10.30862018999999\n",
      "Mean of σ²: 993.8991029999999\n",
      "Variance of σ²: 27226.783107438292\n"
     ]
    }
   ],
   "source": [
    "# Problem 3c:\n",
    "\n",
    "def run_simulation(M, N, nbins):\n",
    "    \"\"\"Run M realizations of the calculation done for Problem 4a\n",
    "    \n",
    "    Returns two lists (mu, sigsq), each of length M.\n",
    "    \"\"\"\n",
    "    mu = []\n",
    "    sigsq = []\n",
    "    for i in range(M):\n",
    "        np.random.seed(i)\n",
    "        counts_per_bin = make_counts(N, nbins)\n",
    "        mean, variance = calculate_mean_var(counts_per_bin)\n",
    "        mu.append(mean)\n",
    "        sigsq.append(variance)\n",
    "    return mu, sigsq\n",
    "M = 100\n",
    "N = 10**6\n",
    "num_bins = 100\n",
    "mu_values, sigma_squared_values = run_simulation(M, N, num_bins)\n",
    "mean_mu = np.mean(mu_values)\n",
    "var_mu = np.var(mu_values)\n",
    "mean_sigma_squared = np.mean(sigma_squared_values)\n",
    "var_sigma_squared = np.var(sigma_squared_values)\n",
    "\n",
    "# Output\n",
    "print(\"Results from 100 realizations:\")\n",
    "print(f\"Mean of μ: {mean_mu}\")\n",
    "print(f\"Variance of μ: {var_mu}\")\n",
    "print(f\"Mean of σ²: {mean_sigma_squared}\")\n",
    "print(f\"Variance of σ²: {var_sigma_squared}\")"
   ]
  },
  {
   "cell_type": "code",
   "execution_count": 93,
   "id": "9ff1a663",
   "metadata": {
    "deletable": false,
    "editable": false,
    "nbgrader": {
     "cell_type": "code",
     "checksum": "3cdff2ffd357be189fa477c6d5c544e0",
     "grade": true,
     "grade_id": "cell-ffbd9ac6df75e7a0",
     "locked": true,
     "points": 2,
     "schema_version": 3,
     "solution": false
    }
   },
   "outputs": [
    {
     "name": "stdout",
     "output_type": "stream",
     "text": [
      "The mean and variance of mu = 1000.32, 10.31\n",
      "The mean and variance of sigsq = 993.90, 27226.78\n",
      "I.e. the mean values fall mostly in the range 1000.32 +- 3.21\n",
      "and the sigsq values fall mostly in the range 993.90 +- 165.01\n"
     ]
    }
   ],
   "source": [
    "mu, sigsq = run_simulation(100, 1_000_000, 100)\n",
    "\n",
    "mu_mean, mu_var = calculate_mean_var(mu)\n",
    "sigsq_mean, sigsq_var = calculate_mean_var(sigsq)\n",
    "\n",
    "print(f\"The mean and variance of mu = {mu_mean:.2f}, {mu_var:.2f}\")\n",
    "print(f\"The mean and variance of sigsq = {sigsq_mean:.2f}, {sigsq_var:.2f}\")\n",
    "\n",
    "print(f\"I.e. the mean values fall mostly in the range {mu_mean:.2f} +- {np.sqrt(mu_var):.2f}\")\n",
    "print(f\"and the sigsq values fall mostly in the range {sigsq_mean:.2f} +- {np.sqrt(sigsq_var):.2f}\")\n"
   ]
  }
 ],
 "metadata": {
  "kernelspec": {
   "display_name": "Python 3 (ipykernel)",
   "language": "python",
   "name": "python3"
  },
  "language_info": {
   "codemirror_mode": {
    "name": "ipython",
    "version": 3
   },
   "file_extension": ".py",
   "mimetype": "text/x-python",
   "name": "python",
   "nbconvert_exporter": "python",
   "pygments_lexer": "ipython3",
   "version": "3.12.4"
  }
 },
 "nbformat": 4,
 "nbformat_minor": 5
}
