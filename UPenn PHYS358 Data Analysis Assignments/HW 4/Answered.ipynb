{
 "cells": [
  {
   "cell_type": "markdown",
   "id": "ae7688b9",
   "metadata": {
    "deletable": false,
    "editable": false,
    "nbgrader": {
     "cell_type": "markdown",
     "checksum": "85870de59f72192bdae8dcaf8ac1514f",
     "grade": false,
     "grade_id": "cell-04674060ceefb247",
     "locked": true,
     "schema_version": 3,
     "solution": false
    }
   },
   "source": [
    "**Question 1**:\n",
    "\n",
    "(4 points) For the uniform distribution $f_U (x|a, b)$ over the interval $a$ to $b$,\n",
    "$$\n",
    "f_U (x|a, b) = \n",
    "\\begin{cases}\n",
    "1/(b − a) & \\text{for}~ a \\le x \\le b \\\\\n",
    "0 & \\text{elsewhere}\n",
    "\\end{cases}\n",
    "$$\n",
    "calculate the expressions for the mean $\\mu$, variance $\\sigma^2$, skewness $\\Sigma$, and excess kurtosis $\\tilde K$ in terms\n",
    "of $a$ and $b$.  (HINT: the answers are in Section 5.8.2 of Gregory.)\n",
    "\n",
    "The skewness and excess kurtosis defined here are:\n",
    "$$\n",
    "\\begin{align}\n",
    "    \\Sigma &= \\frac{1}{\\sigma^3} \\langle (x-\\mu)^3 \\rangle \\\\\n",
    "    \\tilde{K} &= \\frac{1}{\\sigma^4} \\langle (x-\\mu)^4 \\rangle - 3\n",
    "\\end{align}\n",
    "$$\n"
   ]
  },
  {
   "cell_type": "markdown",
   "id": "d38d4425",
   "metadata": {
    "deletable": false,
    "nbgrader": {
     "cell_type": "markdown",
     "checksum": "3b0f74797575e04f8dcf0e69d0fac046",
     "grade": true,
     "grade_id": "cell-1b9a7b303e57db85",
     "locked": false,
     "points": 4,
     "schema_version": 3,
     "solution": true
    }
   },
   "source": [
    "YOUR ANSWER HERE\n",
    "\n",
    "$\\mu = \\int_a^b x \\frac{1}{b-a} dx = 0.5\\times \\frac{1}{b-a} \\times b^2 - a^2 = 0.5(b+a)$ \n",
    "\n",
    "\n",
    "$\n",
    "\\sigma^2 = \\frac{1}{b - a} \\int_a^b \\left( x - \\frac{a + b}{2} \\right)^2 \\, dx.\n",
    "$\n",
    "\n",
    "This integral evaluates to:\n",
    "$\n",
    "\\sigma^2 = \\frac{(b - a)^2}{12}.\n",
    "$\n",
    "\n",
    "$\n",
    "\\Sigma = \\frac{1}{\\sigma^3} \\langle (x - \\mu)^3 \\rangle.\n",
    "$\n",
    "For a uniform distribution, it can be shown that the third central moment $\\langle (x - \\mu)^3 \\rangle = 0$, because the distribution is symmetric about the mean. Therefore:\n",
    "$\n",
    "\\Sigma = 0.\n",
    "$\n",
    "\n",
    "$\n",
    "\\langle (x - \\mu)^4 \\rangle = \\int_a^b \\left( x - \\frac{a + b}{2} \\right)^4 \\frac{1}{b - a} \\, dx.\n",
    "$\n",
    "\n",
    "Now, make a substitution to simplify the limits of integration. Let:\n",
    "$\n",
    "z = \\frac{x - a}{b - a},\n",
    "$\n",
    "\n",
    "which maps \\( x \\) in \\([a, b]\\) to \\( z \\) in \\([0, 1]\\). The differential transforms as:\n",
    "$\n",
    "dx = (b - a) dz.\n",
    "$\n",
    "This gives the transformed integral:\n",
    "$\n",
    "\\langle (x - \\mu)^4 \\rangle = \\frac{(b - a)^5}{(b - a)^5} \\int_0^1 \\left( z - \\frac{1}{2} \\right)^4 dz.\n",
    "$\n",
    "$\n",
    "\\int_0^1 \\left( z - \\frac{1}{2} \\right)^4 dz = \\frac{1}{80}.\n",
    "$\n",
    "\n",
    "Now, substitute this into the expression for excess kurtosis:\n",
    "$\n",
    "\\tilde{K} = \\frac{1}{\\sigma^4} \\cdot \\frac{(b - a)^4}{80} - 3.\n",
    "$\n",
    "\n",
    "$\n",
    "\\sigma^4 = \\left( \\frac{(b - a)^2}{12} \\right)^2 = \\frac{(b - a)^4}{144}.\n",
    "$\n",
    "\n",
    "$\n",
    "\\tilde{K} = -\\frac{6}{5}.\n",
    "$"
   ]
  },
  {
   "cell_type": "markdown",
   "id": "02a5b3ee",
   "metadata": {
    "deletable": false,
    "editable": false,
    "nbgrader": {
     "cell_type": "markdown",
     "checksum": "4d84ef95bfe1ab4efc55464cfb149fd4",
     "grade": false,
     "grade_id": "cell-d961eae260630f74",
     "locked": true,
     "schema_version": 3,
     "solution": false
    }
   },
   "source": [
    "**Question 2**:\n",
    "    \n",
    "(4 pts) For the binomial distribution,\n",
    "  \\begin{equation}\n",
    "    p_B(x| n, p) = \\binom{n}{x}\\,p^x\\,q^{n-x} = \\frac{n!}{x!\\,(n-x)!}\\,p^x\\,(1-p)^{n-x}\n",
    "  \\end{equation}\n",
    "  for observing $x$ of $n$ items and $p$ and $q=(1-p)$ are the success\n",
    "  and failure probabilities, respectively, \n",
    "  using your favorite method, calculate in terms of $n$, $p$, and $q$ the expressions for:\n",
    "  \n",
    "a) (4 pts) the mean $\\mu$ and variance $\\sigma^2$\n",
    "    \n",
    "b) **EXTRA CREDIT:** (1 pt) the skewness $\\Sigma$\n",
    "    \n",
    "c) **EXTRA CREDIT:** (2 pts) the excess kurtosis $\\tilde K$\n",
    "\n",
    "(HINT: some of the answers are in Section 5.7.1 of Gregory)"
   ]
  },
  {
   "cell_type": "markdown",
   "id": "0334018b",
   "metadata": {
    "deletable": false,
    "nbgrader": {
     "cell_type": "markdown",
     "checksum": "8667c47131fa2fbede8f5bd9dbd708a2",
     "grade": true,
     "grade_id": "cell-df19e1a049562ebf",
     "locked": false,
     "points": 4,
     "schema_version": 3,
     "solution": true
    }
   },
   "source": [
    "Question 2a:\n",
    "\n",
    "Hint: It can be helpful to use the fact that the sum of the probabilities over all possibilities $x$ for a\n",
    "specific choice of $n$ is 1.\n",
    "\n",
    "YOUR ANSWER HERE\n",
    "First we calculate $m_x(t) = \\braket{e^{tx}} = \\sum_{x=0}^{n} e^{tx}\\binom{n}{x}p^x(1-p)^{n-x}$\n",
    "\n",
    "from the book it is equal to $=[(1-p)+e^tp]^n$\n",
    "\n",
    "now we have $m_x(t)$ and its first derivative is $\\braket{x}$ and second one is $\\braket{x^2}$ and etc\n",
    "\n",
    "### First derivative:\n",
    "$$\n",
    "\\frac{d}{dt} m_x(t) \\bigg|_{t=0} = n \\left[ (1 - p) + e^0 p \\right]^{n-1} \\cdot p e^0 = n \\cdot p = np.\n",
    "$$\n",
    "\n",
    "### Second derivative:\n",
    "$$\n",
    "\\frac{d^2}{dt^2} m_x(t) \\bigg|_{t=0} = n(n-1) p^2 + n p = n \\left( (n-1) p^2 + p \\right).\n",
    "$$\n",
    "### Third derivative:\n",
    "$$\n",
    "\\frac{d^3}{dt^3} m_x(t) \\bigg|_{t=0} = n(n-1)(n-2) p^3 + 3n(n-1) p^2 + n p.\n",
    "$$\n",
    "\n",
    "### Fourth derivative:\n",
    "$$\n",
    "\\frac{d^4}{dt^4} m_x(t) \\bigg|_{t=0} = n(n-1)(n-2)(n-3) p^4 + 6n(n-1)(n-2) p^3 + 7n(n-1) p^2 + n p.\n",
    "$$\n",
    "\n",
    "now we know that \n",
    "$$\n",
    "\\mu = \\braket{x} =  np\n",
    "$$\n",
    "\n",
    "$$\n",
    "\\sigma^2 = \\langle x^2 \\rangle - \\langle x \\rangle^2 = \\left( n(n-1)p^2 + np \\right) - (np)^2 = n p (1 - p).\n",
    "$$"
   ]
  },
  {
   "cell_type": "markdown",
   "id": "d81896d2",
   "metadata": {
    "deletable": false,
    "nbgrader": {
     "cell_type": "markdown",
     "checksum": "b7616dbc22c6b51029eeea97d01d3498",
     "grade": true,
     "grade_id": "cell-4b27e6cb27594445",
     "locked": false,
     "points": 1,
     "schema_version": 3,
     "solution": true
    }
   },
   "source": [
    "Question 2b:\n",
    "\n",
    "YOUR ANSWER HERE\n",
    "\n",
    "$$\n",
    "\\Sigma = \\frac{ \\langle (x - \\mu)^3 \\rangle }{ \\sigma^3 }= \\frac{ \\left[ n(n-1)(n-2)p^3 + 3n(n-1)p^2 + np \\right] - 3(np) \\left( n(n-1)p^2 + np \\right) + 2(np)^3 }{ \\left( n p (1 - p) \\right)^{3/2} }.\n",
    "$$\n"
   ]
  },
  {
   "cell_type": "markdown",
   "id": "90a721c0",
   "metadata": {
    "deletable": false,
    "nbgrader": {
     "cell_type": "markdown",
     "checksum": "04e29f150b9ed889f6dc12d4a8852b00",
     "grade": true,
     "grade_id": "cell-c43724decb008d5c",
     "locked": false,
     "points": 2,
     "schema_version": 3,
     "solution": true
    }
   },
   "source": [
    "Question 2c:\n",
    "\n",
    "YOUR ANSWER HERE\n",
    "$$\n",
    "\\tilde{K} = \\frac{ n(n-1)(n-2)(n-3)p^4 + 6n(n-1)(n-2)p^3 + 7n(n-1)p^2 + np - 4(np) \\left( n(n-1)(n-2)p^3 + 3n(n-1)p^2 + np \\right) + 6(np)^2 \\left( n(n-1)p^2 + np \\right) - 3(np)^4 }{ \\left( n p (1 - p) \\right)^2 } - 3.\n",
    "$$"
   ]
  },
  {
   "cell_type": "markdown",
   "id": "19dcc285",
   "metadata": {
    "deletable": false,
    "editable": false,
    "nbgrader": {
     "cell_type": "markdown",
     "checksum": "0b307dc4539a787e34abc71328cf7fde",
     "grade": false,
     "grade_id": "cell-0e8c9a687c5f45db",
     "locked": true,
     "schema_version": 3,
     "solution": false
    }
   },
   "source": [
    "**Question 3**: \n",
    "\n",
    "*Drawing  random  deviates  from  arbitrary  functions.* Although $\\texttt{np.random}$ has numerous  functions from which you can draw random deviates, in real life you will encounter cases that are not in $\\texttt{numpy}$.  This problem will guide you through the steps of writing your own function that samples from an arbitrary distribution.  Consider an asymmetric gaussian distribution function given by the following:\n",
    "\n",
    "$$\n",
    "f_{2G}(x| \\sigma_L, \\sigma_R) \\propto\n",
    "\\begin{cases}\n",
    "    e^{-x^2/2\\sigma_L^2} & x < 0 \\\\\n",
    "    e^{-x^2/2\\sigma_R^2} & x \\ge 0 \\\\\n",
    "\\end{cases}\n",
    "$$\n",
    "\n",
    "The function is continuous across $x=0$.\n",
    "  \n",
    "(a) (3 pts) Write a function that returns the value of $f_{2G}(x| \\sigma_L, \\sigma_R)$ normalized to unity, i.e., such that\n",
    "  \n",
    "$$\n",
    "\\int^\\infty_{-\\infty} f_{2G}(x| \\sigma_L, \\sigma_R) dx = 1\n",
    "$$\n",
    "  \n",
    "The function should take three arguments: $\\sigma_L$, $\\sigma_R$, and $\\texttt{x}$, a vector of $x$ values.\n",
    "\n",
    "(b) (3 pts) Write a function that returns the cumulative distribution function ($CDF$) of the normalized $f_{2G}(x| \\sigma_L, \\sigma_R)$, i.e.,\n",
    "\n",
    "$$\n",
    "CDF(x; \\sigma_L, \\sigma_R) = \\int^x_{-\\infty} f_{2G}(x^\\prime| \\sigma_L, \\sigma_R) dx^\\prime\n",
    "$$\n",
    "\n",
    "This function should also take three arguments: $\\sigma_L$, $\\sigma_R$, and a vector of $x$ values.\n",
    "\n",
    "(c) (4 pts) Using the results from above, write a function that draws random deviates from $f_{2G}$.  The sampler should take three arguments: $\\sigma_L$, $\\sigma_R$, and the number of random numbers to return.\n",
    "\n",
    "(d) (2 pts) Draw $10^6$ random numbers from this distribution for $\\sigma_L = 0.4$ and $\\sigma_R = 1.2$ and plot a histogram of the values from $-2 \\le x \\le 5$.  Overplot the analytic function on the same graph.\n"
   ]
  },
  {
   "cell_type": "code",
   "execution_count": 8,
   "id": "369f9e6a",
   "metadata": {
    "deletable": false,
    "nbgrader": {
     "cell_type": "code",
     "checksum": "3009b9d0c2535a54a0ab3366bfebb4d2",
     "grade": false,
     "grade_id": "cell-a7c9ee6b539502bb",
     "locked": false,
     "schema_version": 3,
     "solution": true
    }
   },
   "outputs": [],
   "source": [
    "# Question 3a\n",
    "\n",
    "import numpy as np\n",
    "from scipy.integrate import quad\n",
    "\n",
    "def f2gauss_pdf(sigma_L, sigma_R, x):\n",
    "    \"\"\"Return f_2G(x) for the given sigma_L, sigma_R and x values.\n",
    "    \"\"\"\n",
    "    # Hints:\n",
    "    # 1. Start with a numpy array the same shape as the input x values, but all zeros.\n",
    "    #    You can use the numpy function np.zeros or np.zeros_like to do this.\n",
    "    # 2. Numpy indexing will be helpful here.  e.g. pdf[x>=0] = 3 will assign all values\n",
    "    #    in the pdf array corresponding to values with x>=0 to the value 3.  Obviously, you\n",
    "    #    don't want to set the values to 3, but you can put the math you want on the rhs\n",
    "    #    of this and it will only assign to those elements on the lhs where x>=0.\n",
    "    #    Repeat this with pdf[x<0] for the other half.\n",
    "    # 3. The slightly funny looking x[x>=0] will give you the x values that are >= 0.\n",
    "    #    This will be the thing to use for x on the rhs.\n",
    "    # 4. Start with the function normalized to have f_2G(0) = 1.\n",
    "    #    You should be able to figure out the integral of this function from -inf..inf.\n",
    "    #    Divide by this result to get a version where the integral is 1.\n",
    "\n",
    "    # YOUR CODE HERE\n",
    "    pdf = np.zeros_like(x)\n",
    "    pdf[x < 0] = np.exp(-x[x < 0]**2 / (2 * sigma_L**2))\n",
    "    pdf[x >= 0] = np.exp(-x[x >= 0]**2 / (2 * sigma_R**2))\n",
    "    integral_neg, _ = quad(lambda x: np.exp(-x**2 / (2 * sigma_L**2)), -np.inf, 0)\n",
    "    integral_pos, _ = quad(lambda x: np.exp(-x**2 / (2 * sigma_R**2)), 0, np.inf)\n",
    "    normalization_constant = integral_neg + integral_pos\n",
    "    pdf /= normalization_constant\n",
    "    \n",
    "    return pdf"
   ]
  },
  {
   "cell_type": "code",
   "execution_count": 10,
   "id": "786d3076",
   "metadata": {
    "deletable": false,
    "editable": false,
    "nbgrader": {
     "cell_type": "code",
     "checksum": "9b7f810a5f132a7ec0c4a0763a092474",
     "grade": true,
     "grade_id": "cell-31fc878169cae5aa",
     "locked": true,
     "points": 3,
     "schema_version": 3,
     "solution": false
    }
   },
   "outputs": [
    {
     "name": "stdout",
     "output_type": "stream",
     "text": [
      "pdf(-50.0) = 3.061571894567757e-137\n",
      "pdf(-4.0) = 0.02159638660527522\n",
      "pdf(-2.0) = 0.09678828980765734\n",
      "pdf(0.0) = 0.15957691216057307\n",
      "pdf(3.0) = 0.09678828980765734\n",
      "pdf(6.0) = 0.02159638660527522\n",
      "pdf(50.0) = 7.6611155910239645e-62\n",
      "Integral =  1.0\n"
     ]
    }
   ],
   "source": [
    "sigma_L = 2\n",
    "sigma_R = 3\n",
    "\n",
    "# Test with a few select values you may be able to check directly whether they make sense.\n",
    "x_vals = np.array([-50., -4., -2., 0., 3., 6., 50.])\n",
    "\n",
    "pdf = f2gauss_pdf(sigma_L, sigma_R, x_vals)\n",
    "# If you haven't seen zip before, it basically lets you loop over two lists (or arrays) at once.\n",
    "for x, p in zip(x_vals, pdf):\n",
    "    print(f\"pdf({x}) = {p}\")\n",
    "\n",
    "# Check the normalization using values that are dense enough to give a good estimate of the integral.\n",
    "x_vals = np.linspace(-50, 50, 1000)\n",
    "pdf = f2gauss_pdf(sigma_L, sigma_R, x_vals)\n",
    "\n",
    "# Numpy has a handy function that implements the trapezoidal estimate of integration when you have\n",
    "# both the x and y values as arrays.\n",
    "integral = np.trapz(pdf, x_vals)\n",
    "print('Integral = ',integral)\n",
    "assert np.isclose(integral, 1.0)"
   ]
  },
  {
   "cell_type": "code",
   "execution_count": 12,
   "id": "e45d9596",
   "metadata": {
    "deletable": false,
    "nbgrader": {
     "cell_type": "code",
     "checksum": "f1035d6eca1b47c493fb87affe19458c",
     "grade": false,
     "grade_id": "cell-3c216114bc005767",
     "locked": false,
     "schema_version": 3,
     "solution": true
    }
   },
   "outputs": [],
   "source": [
    "# Question 3b\n",
    "\n",
    "def f2gauss_cdf(sigma_L, sigma_R, x):\n",
    "    \"\"\"Return a cumulative probability distribution for f_2G(x).\n",
    "    \n",
    "    i.e. int(f_2G(x'), x'=-infinity..x)\n",
    "\n",
    "    You may assume that the input x values are linearly spaced and have sufficient \n",
    "    range and density to adequately sample the distribution, so that numerical \n",
    "    estimates of the integral using the given values are reasonably accurate.\n",
    "    \n",
    "    Returns the array cdf, the same size as x.\n",
    "    \"\"\"\n",
    "    # Hints:\n",
    "    # 1. Use f2gauss_pdf to get the pdf.\n",
    "    # 2. The trapezoid rule gives a good approximation for the running integral.\n",
    "    #    However, using np.trapz for each index would be extremely slow.\n",
    "    #    So, think about how to use np.cumsum to compute the same thing faster.\n",
    "    # 3. When you are done, cdf[0] should == 0 and cdf[-1] should == 1.\n",
    "    \n",
    "    # YOUR CODE HERE\n",
    "    pdf = f2gauss_pdf(sigma_L, sigma_R, x)\n",
    "    cdf = np.zeros_like(x)\n",
    "    cdf[1:] = np.cumsum((pdf[:-1] + pdf[1:]) / 2 * (x[1] - x[0]))\n",
    "    cdf /= cdf[-1]     \n",
    "    return cdf"
   ]
  },
  {
   "cell_type": "code",
   "execution_count": 14,
   "id": "be7b2e1b",
   "metadata": {
    "deletable": false,
    "editable": false,
    "nbgrader": {
     "cell_type": "code",
     "checksum": "4245b05920b6463d5c123e98aa3bf1f3",
     "grade": true,
     "grade_id": "cell-b3606fb00a67a598",
     "locked": true,
     "points": 3,
     "schema_version": 3,
     "solution": false
    }
   },
   "outputs": [
    {
     "name": "stdout",
     "output_type": "stream",
     "text": [
      "cdf[200] = 3.574048324616687e-51, trapz estimate = 3.574048324616687e-51\n",
      "cdf[500] = 0.4079857210136283, trapz estimate = 0.4079857210136283\n",
      "cdf[505] = 0.48735648538503235, trapz estimate = 0.48735648538503235\n",
      "cdf[700] = 0.9999999999865554, trapz estimate = 0.9999999999865552\n"
     ]
    }
   ],
   "source": [
    "sigma_L = 2\n",
    "sigma_R = 3\n",
    "\n",
    "# We showed above that with this range the integral was 1 to machine precision.\n",
    "# (At least for this particular choice of sigma_L and sigma_R...)\n",
    "x_vals = np.linspace(-50, 50, 1000)\n",
    "\n",
    "cdf = f2gauss_cdf(sigma_L, sigma_R, x_vals)\n",
    "\n",
    "assert len(cdf) == len(x_vals)\n",
    "\n",
    "# The left-most value should be exactly 0.  \n",
    "assert cdf[0] == 0\n",
    "# The right-most value should be exactly 1\n",
    "assert cdf[-1] == 1.\n",
    "\n",
    "# Let's spot check a few values using trapz\n",
    "pdf = f2gauss_pdf(sigma_L, sigma_R, x_vals)\n",
    "for i in [200, 500, 505, 700]:\n",
    "    t = np.trapz(pdf[:i+1], x_vals[:i+1])\n",
    "    print(f\"cdf[{i}] = {cdf[i]}, trapz estimate = {t}\")\n",
    "    assert np.isclose(cdf[i], t, rtol=1.e-6)"
   ]
  },
  {
   "cell_type": "code",
   "execution_count": 16,
   "id": "f969fb3c",
   "metadata": {
    "deletable": false,
    "nbgrader": {
     "cell_type": "code",
     "checksum": "fedc0d00d58279e22ab8566a3cb4d562",
     "grade": false,
     "grade_id": "cell-33c8bf35b1a3fe7e",
     "locked": false,
     "schema_version": 3,
     "solution": true
    }
   },
   "outputs": [],
   "source": [
    "# Problem 3c\n",
    "def find_x_from_cdf(cdf, x, c):\n",
    "    \"\"\"Given a cdf(x) tabulated in numpy arrays cdf and x, and an array of \n",
    "    random numbers c, where 0 < c[i] < 1 for all i, find the x[i] values that \n",
    "    correspond to the given c[i] = cdf(x[i]).\n",
    "    \n",
    "    Returns a number array of x values corresponding to the given c values.\n",
    "    \"\"\"\n",
    "    # Hints:\n",
    "    # 1. The numpy function np.searchsorted will be helpful.\n",
    "    # 2. You can get two values for cdf(x) that bracket each c value.\n",
    "    # 3. Linearly interpolate between these values to get the corresponding x.\n",
    "\n",
    "    # YOUR CODE HERE\n",
    "    idx = np.searchsorted(cdf, c)\n",
    "    idx = np.clip(idx, 1, len(cdf) - 1)\n",
    "    x1 = x[idx - 1]\n",
    "    x2 = x[idx]     \n",
    "    cdf1 = cdf[idx - 1]\n",
    "    cdf2 = cdf[idx]    \n",
    "    x_interp = x1 + (c - cdf1) * (x2 - x1) / (cdf2 - cdf1)\n",
    "    \n",
    "    return x_interp\n",
    "\n",
    "def f2gauss(sigma_L, sigma_R, size):\n",
    "    \"\"\"Generate an array of samples drawn from the probability function \n",
    "    \n",
    "        f_2G(x) = exp(-x^2/sigma_L^2) if x < 0\n",
    "                  exp(-x^2/sigma_R^2) if x >= 0\n",
    "                  \n",
    "    Returns the array\n",
    "    \"\"\"\n",
    "    # This function is relatively trivial now that you have done all the other functions.\n",
    "    # 1. Select an appropriate range and density for the x values.\n",
    "    # 2. Compute the corresponding cdf values with f2gauss_cdf.\n",
    "    # 3. Create an array of uniform random deviates of length, size\n",
    "    # 4. Use find_x_from_cdf to find x for each c value.\n",
    "\n",
    "    # YOUR CODE HERE\n",
    "    x_vals = np.linspace(-50, 50, 10000)\n",
    "    cdf = f2gauss_cdf(sigma_L, sigma_R, x_vals)\n",
    "    random_vals = np.random.rand(size)\n",
    "    samples = find_x_from_cdf(cdf, x_vals, random_vals)\n",
    "    \n",
    "    return samples"
   ]
  },
  {
   "cell_type": "code",
   "execution_count": 18,
   "id": "d855eb8a",
   "metadata": {
    "deletable": false,
    "editable": false,
    "nbgrader": {
     "cell_type": "code",
     "checksum": "044b680bde72d56eaf389d7958b50071",
     "grade": true,
     "grade_id": "cell-a338b15e0c3b9a09",
     "locked": true,
     "points": 4,
     "schema_version": 3,
     "solution": false
    }
   },
   "outputs": [
    {
     "name": "stdout",
     "output_type": "stream",
     "text": [
      "Mean, var = 0.6380, 0.7129\n"
     ]
    }
   ],
   "source": [
    "sigma_L = 0.4\n",
    "sigma_R = 1.2\n",
    "size = int(1.e6)\n",
    "\n",
    "values = f2gauss(sigma_L, sigma_R, size)\n",
    "\n",
    "print('Mean, var = {:.4f}, {:.4f}'.format(values.mean(), values.var()))"
   ]
  },
  {
   "cell_type": "code",
   "execution_count": 20,
   "id": "d1517ce5",
   "metadata": {
    "deletable": false,
    "nbgrader": {
     "cell_type": "code",
     "checksum": "428372383b4bca46c9f50b9c4332166a",
     "grade": true,
     "grade_id": "cell-0e866771beb3791e",
     "locked": false,
     "points": 2,
     "schema_version": 3,
     "solution": true
    }
   },
   "outputs": [
    {
     "data": {
      "image/png": "[encoded data removed]",
      "text/plain": [
       "<Figure size 1600x600 with 1 Axes>"
      ]
     },
     "metadata": {},
     "output_type": "display_data"
    }
   ],
   "source": [
    "import matplotlib\n",
    "import matplotlib.pyplot as plt\n",
    "%matplotlib inline\n",
    "\n",
    "# Plot a histogram of the values as a probability distribution function.\n",
    "# Also overplot the true pdf using the function f2gauss_pdf to compare.\n",
    "\n",
    "# Hints: \n",
    "# 1. Use the ax.hist function.  Read the docs for potentially useful options.\n",
    "# 2. One of the return values of ax.hist is the bin centers, which you can\n",
    "#    pass to f2gauss_pdf to get the true pdf.\n",
    "# 3. You'll need to normalize the values returned from f2gauss_pdf appropriately.\n",
    "\n",
    "fig, ax = plt.subplots(1, figsize=(16,6))\n",
    "\n",
    "# YOUR CODE HERE\n",
    "n, bins, patches = ax.hist(values, bins=100, range=(-2, 5), density=True, alpha=0.6, color='g', label='Sampled PDF')\n",
    "bin_centers = 0.5 * (bins[:-1] + bins[1:])\n",
    "true_pdf = f2gauss_pdf(sigma_L, sigma_R, bin_centers)\n",
    "ax.plot(bin_centers, true_pdf, color='r', label='True PDF')\n",
    "ax.set_xlabel('x')\n",
    "ax.set_ylabel('Probability Density')\n",
    "ax.legend()\n",
    "\n",
    "plt.show()"
   ]
  }
 ],
 "metadata": {
  "kernelspec": {
   "display_name": "Python 3 (ipykernel)",
   "language": "python",
   "name": "python3"
  },
  "language_info": {
   "codemirror_mode": {
    "name": "ipython",
    "version": 3
   },
   "file_extension": ".py",
   "mimetype": "text/x-python",
   "name": "python",
   "nbconvert_exporter": "python",
   "pygments_lexer": "ipython3",
   "version": "3.12.4"
  }
 },
 "nbformat": 4,
 "nbformat_minor": 5
}
